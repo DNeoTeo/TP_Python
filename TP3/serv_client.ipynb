{
 "cells": [
  {
   "cell_type": "markdown",
   "id": "0d2ed608-4ec7-47e8-a1a7-cc9d7655ebcf",
   "metadata": {},
   "source": [
    "**Exo 1**\n",
    "\n",
    "#1) Un service web est un service via internet, c'est un protocole d'interface informatique qui permet la communication et l'échange de données entre applications et systèmes.\n",
    "Un service web est un ensemble de fonctionnalités exposées sur internet par et pour des applications ou machines, sans intervention humaine. Le client et le serveur ne doivent pas forcément avoir la même configuration pour communiquer. \n",
    "\n",
    "#2) API REST est une interface de programmation d'application (API) qui respecte les contraintes du style d'architecture REST (Representational State Transfer). Cela permet aux logiciels de communiquer entre eux sur un réseau ou sur un même appareil malgré la différences d'architectures et d'OS. Généralement, les API REST sont utilisée pour créer des services internet.\n",
    "Le critère REST (\"RESTful\") est attribué à une API si elle permet aux logiciels de communiquer entre eux quels que soient les systèmes d'exploitation. L'API REST fonctionne sur la base d'une relation client/serveur, avec une interface uniforme qui est basée sur des ressources (qui peuvent être conservée en cache).\n",
    "\n",
    "#3) FastAPI est un framework web Python qui permet de créer rapidement des API de haute performance. "
   ]
  },
  {
   "cell_type": "markdown",
   "id": "7a8f36aa",
   "metadata": {},
   "source": []
  },
  {
   "cell_type": "code",
   "execution_count": null,
   "id": "d2a85243-bff8-4a9f-bca2-2b9fc5f42e35",
   "metadata": {},
   "outputs": [],
   "source": []
  }
 ],
 "metadata": {
  "kernelspec": {
   "display_name": "Python 3 (ipykernel)",
   "language": "python",
   "name": "python3"
  },
  "language_info": {
   "codemirror_mode": {
    "name": "ipython",
    "version": 3
   },
   "file_extension": ".py",
   "mimetype": "text/x-python",
   "name": "python",
   "nbconvert_exporter": "python",
   "pygments_lexer": "ipython3",
   "version": "3.10.2"
  }
 },
 "nbformat": 4,
 "nbformat_minor": 5
}
